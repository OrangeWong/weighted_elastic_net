{
 "cells": [
  {
   "cell_type": "code",
   "execution_count": 1,
   "metadata": {
    "collapsed": true
   },
   "outputs": [],
   "source": [
    "import numpy as np\n",
    "import pandas as pd"
   ]
  },
  {
   "cell_type": "markdown",
   "metadata": {},
   "source": [
    "## Data preprocessing\n"
   ]
  },
  {
   "cell_type": "code",
   "execution_count": 2,
   "metadata": {
    "collapsed": true
   },
   "outputs": [],
   "source": [
    "df = pd.read_csv('Boston.csv')"
   ]
  },
  {
   "cell_type": "code",
   "execution_count": 3,
   "metadata": {},
   "outputs": [
    {
     "data": {
      "text/html": [
       "<div>\n",
       "<style scoped>\n",
       "    .dataframe tbody tr th:only-of-type {\n",
       "        vertical-align: middle;\n",
       "    }\n",
       "\n",
       "    .dataframe tbody tr th {\n",
       "        vertical-align: top;\n",
       "    }\n",
       "\n",
       "    .dataframe thead th {\n",
       "        text-align: right;\n",
       "    }\n",
       "</style>\n",
       "<table border=\"1\" class=\"dataframe\">\n",
       "  <thead>\n",
       "    <tr style=\"text-align: right;\">\n",
       "      <th></th>\n",
       "      <th>crim</th>\n",
       "      <th>zn</th>\n",
       "      <th>indus</th>\n",
       "      <th>chas</th>\n",
       "      <th>nox</th>\n",
       "      <th>rm</th>\n",
       "      <th>age</th>\n",
       "      <th>dis</th>\n",
       "      <th>rad</th>\n",
       "      <th>tax</th>\n",
       "      <th>ptratio</th>\n",
       "      <th>black</th>\n",
       "      <th>lstat</th>\n",
       "      <th>medv</th>\n",
       "    </tr>\n",
       "  </thead>\n",
       "  <tbody>\n",
       "    <tr>\n",
       "      <th>0</th>\n",
       "      <td>0.00632</td>\n",
       "      <td>18.0</td>\n",
       "      <td>2.31</td>\n",
       "      <td>0</td>\n",
       "      <td>0.538</td>\n",
       "      <td>6.575</td>\n",
       "      <td>65.2</td>\n",
       "      <td>4.0900</td>\n",
       "      <td>1</td>\n",
       "      <td>296</td>\n",
       "      <td>15.3</td>\n",
       "      <td>396.90</td>\n",
       "      <td>4.98</td>\n",
       "      <td>24.0</td>\n",
       "    </tr>\n",
       "    <tr>\n",
       "      <th>1</th>\n",
       "      <td>0.02731</td>\n",
       "      <td>0.0</td>\n",
       "      <td>7.07</td>\n",
       "      <td>0</td>\n",
       "      <td>0.469</td>\n",
       "      <td>6.421</td>\n",
       "      <td>78.9</td>\n",
       "      <td>4.9671</td>\n",
       "      <td>2</td>\n",
       "      <td>242</td>\n",
       "      <td>17.8</td>\n",
       "      <td>396.90</td>\n",
       "      <td>9.14</td>\n",
       "      <td>21.6</td>\n",
       "    </tr>\n",
       "    <tr>\n",
       "      <th>2</th>\n",
       "      <td>0.02729</td>\n",
       "      <td>0.0</td>\n",
       "      <td>7.07</td>\n",
       "      <td>0</td>\n",
       "      <td>0.469</td>\n",
       "      <td>7.185</td>\n",
       "      <td>61.1</td>\n",
       "      <td>4.9671</td>\n",
       "      <td>2</td>\n",
       "      <td>242</td>\n",
       "      <td>17.8</td>\n",
       "      <td>392.83</td>\n",
       "      <td>4.03</td>\n",
       "      <td>34.7</td>\n",
       "    </tr>\n",
       "    <tr>\n",
       "      <th>3</th>\n",
       "      <td>0.03237</td>\n",
       "      <td>0.0</td>\n",
       "      <td>2.18</td>\n",
       "      <td>0</td>\n",
       "      <td>0.458</td>\n",
       "      <td>6.998</td>\n",
       "      <td>45.8</td>\n",
       "      <td>6.0622</td>\n",
       "      <td>3</td>\n",
       "      <td>222</td>\n",
       "      <td>18.7</td>\n",
       "      <td>394.63</td>\n",
       "      <td>2.94</td>\n",
       "      <td>33.4</td>\n",
       "    </tr>\n",
       "    <tr>\n",
       "      <th>4</th>\n",
       "      <td>0.06905</td>\n",
       "      <td>0.0</td>\n",
       "      <td>2.18</td>\n",
       "      <td>0</td>\n",
       "      <td>0.458</td>\n",
       "      <td>7.147</td>\n",
       "      <td>54.2</td>\n",
       "      <td>6.0622</td>\n",
       "      <td>3</td>\n",
       "      <td>222</td>\n",
       "      <td>18.7</td>\n",
       "      <td>396.90</td>\n",
       "      <td>5.33</td>\n",
       "      <td>36.2</td>\n",
       "    </tr>\n",
       "  </tbody>\n",
       "</table>\n",
       "</div>"
      ],
      "text/plain": [
       "      crim    zn  indus  chas    nox     rm   age     dis  rad  tax  ptratio  \\\n",
       "0  0.00632  18.0   2.31     0  0.538  6.575  65.2  4.0900    1  296     15.3   \n",
       "1  0.02731   0.0   7.07     0  0.469  6.421  78.9  4.9671    2  242     17.8   \n",
       "2  0.02729   0.0   7.07     0  0.469  7.185  61.1  4.9671    2  242     17.8   \n",
       "3  0.03237   0.0   2.18     0  0.458  6.998  45.8  6.0622    3  222     18.7   \n",
       "4  0.06905   0.0   2.18     0  0.458  7.147  54.2  6.0622    3  222     18.7   \n",
       "\n",
       "    black  lstat  medv  \n",
       "0  396.90   4.98  24.0  \n",
       "1  396.90   9.14  21.6  \n",
       "2  392.83   4.03  34.7  \n",
       "3  394.63   2.94  33.4  \n",
       "4  396.90   5.33  36.2  "
      ]
     },
     "execution_count": 3,
     "metadata": {},
     "output_type": "execute_result"
    }
   ],
   "source": [
    "df.head()"
   ]
  },
  {
   "cell_type": "code",
   "execution_count": 4,
   "metadata": {},
   "outputs": [
    {
     "data": {
      "text/plain": [
       "crim       0\n",
       "zn         0\n",
       "indus      0\n",
       "chas       0\n",
       "nox        0\n",
       "rm         0\n",
       "age        0\n",
       "dis        0\n",
       "rad        0\n",
       "tax        0\n",
       "ptratio    0\n",
       "black      0\n",
       "lstat      0\n",
       "medv       0\n",
       "dtype: int64"
      ]
     },
     "execution_count": 4,
     "metadata": {},
     "output_type": "execute_result"
    }
   ],
   "source": [
    "df.isna().sum()"
   ]
  },
  {
   "cell_type": "code",
   "execution_count": 5,
   "metadata": {
    "collapsed": true
   },
   "outputs": [],
   "source": [
    "X = df.iloc[:, :-1]\n",
    "y = df.iloc[:, -1]"
   ]
  },
  {
   "cell_type": "code",
   "execution_count": 6,
   "metadata": {
    "collapsed": true
   },
   "outputs": [],
   "source": [
    "# normal the data\n",
    "from sklearn.preprocessing import MinMaxScaler\n",
    "\n",
    "# initize a scaler\n",
    "scaler_X = MinMaxScaler()\n",
    "\n",
    "# fit and transform\n",
    "X_scaled = scaler_X.fit_transform(X)\n"
   ]
  },
  {
   "cell_type": "code",
   "execution_count": 7,
   "metadata": {
    "collapsed": true
   },
   "outputs": [],
   "source": [
    "# split the dataset\n",
    "from sklearn.model_selection import train_test_split\n",
    "\n",
    "X_train, X_test, y_train, y_test = train_test_split(X,\n",
    "                                                    y,\n",
    "                                                    test_size=0.33,\n",
    "                                                    random_state=0)"
   ]
  },
  {
   "cell_type": "markdown",
   "metadata": {},
   "source": [
    "## Gradient"
   ]
  },
  {
   "cell_type": "code",
   "execution_count": 37,
   "metadata": {
    "collapsed": true
   },
   "outputs": [],
   "source": [
    "\n",
    "class WEN():\n",
    "    '''\n",
    "    Implement weighted elastic net\n",
    "    '''\n",
    "    \n",
    "    def __initi__(self, weight =  None, max_iter = 50, tol= 1e-4, random_state = 0):\n",
    "        '''\n",
    "        Args:\n",
    "            weight (array): A 2D weight with the suitable dimensions. Default is identify matrix.\n",
    "            max_iter (int): The maximun number of iterations\n",
    "            tol (float): The tolerlance for the solution\n",
    "            random_state (int): The random state\n",
    "            \n",
    "        Returns: None\n",
    "        '''\n",
    "        self._weight = weight\n",
    "        self._max_iter = max_iter\n",
    "        self._tol = tol\n",
    "        self._random_state = random_state\n",
    "        self._coeff = None\n",
    "        self._num_obersvations = None\n",
    "        self._num_features = None\n",
    "        \n",
    "    def _get_num_observations(self, X):\n",
    "        '''\n",
    "        Args:\n",
    "            X (array): A matrix that contains data\n",
    "        \n",
    "        Returns: None\n",
    "        '''\n",
    "        self._num_obersvations = (np.array(data)).shape[0]\n",
    "        \n",
    "    def _get_num_features(self, X):\n",
    "        # return the number of features based on input data.\n",
    "        data = np.array(data)\n",
    "        return data.shape[1]\n",
    "    def _get_initial_guess(self, X):\n",
    "        '''\n",
    "        Args:\n",
    "            \n",
    "        '''\n",
    "    pass \n",
    "        \n",
    "# subgradient method\n",
    "def gradient_abs_func(b):\n",
    "    # b is (nx1)\n",
    "    return (b != 0)*np.sign(b) + (b == 0)*(2*np.random.random() - 1)\n",
    "        \n",
    "def gradient_wen(X, W, y, l1, l2, b):\n",
    "    y = np.reshape(np.array(y),(-1,1))\n",
    "    X = np.array(X)\n",
    "    I = np.identity(X.shape[1])\n",
    "    g1 = 2*(np.transpose(X)@W@X + l2*I)@b/(1+ l2)\n",
    "    g2 = -2*np.transpose(X)@W@y\n",
    "    g3 = l1*gradient_abs_func(b)\n",
    "    \n",
    "    return g1 + g2 + g3\n",
    "\n",
    "def wen_loss_function(X, W, y, l1, l2, b):\n",
    "    y = np.reshape(np.array(y),(-1,1))\n",
    "    X = np.array(X)\n",
    "    I = np.identity(X.shape[1])\n",
    "    g1 = np.transpose(b)@(np.transpose(X)@W@X + l2*I)/(1+ l2)@b\n",
    "    g2 = -2*np.transpose(y)@W@X@b \n",
    "    g3 = l1*np.linalg.norm(b, ord=1)\n",
    "    \n",
    "    return np.asscalar(g1+g2)+g3\n",
    "\n",
    "def should_stop(iters):\n",
    "    return iters > 5000\n",
    "\n",
    "def get_initial_guess():\n",
    "    pass\n",
    "\n",
    "\n",
    "def fit(X, y, l1, l2):\n",
    "    # step size\n",
    "    alpha = 0.01\n",
    "\n",
    "    # initial point x_0\n",
    "    b_old = None \n",
    "    W = np.identity(X.shape[0])\n",
    "    iters = 0\n",
    "    b = np.random.random(size = (X.shape[1], 1))\n",
    "    loss_function_old = wen_loss_function(X, W, y, l1, l2, b)\n",
    "    \n",
    "    while not should_stop(iters):\n",
    "        iters += 1\n",
    "        b_old = b\n",
    "        grad = gradient_wen(X, W, y, l1, l2, b_old)\n",
    "        b = b_old - alpha/np.linalg.norm(grad)*grad\n",
    "        \n",
    "        loss_function = wen_loss_function(X, W, y, l1, l2, b)\n",
    "        \n",
    "        if loss_function > loss_function_old:\n",
    "            b = b_old\n",
    "            loss_function = loss_function_old\n",
    "        print(loss_function)    \n",
    "        #print(b)\n",
    "    return loss_function\n",
    "        "
   ]
  },
  {
   "cell_type": "code",
   "execution_count": null,
   "metadata": {
    "collapsed": true
   },
   "outputs": [],
   "source": []
  }
 ],
 "metadata": {
  "kernelspec": {
   "display_name": "Python 3",
   "language": "python",
   "name": "python3"
  },
  "language_info": {
   "codemirror_mode": {
    "name": "ipython",
    "version": 3
   },
   "file_extension": ".py",
   "mimetype": "text/x-python",
   "name": "python",
   "nbconvert_exporter": "python",
   "pygments_lexer": "ipython3",
   "version": "3.6.1"
  }
 },
 "nbformat": 4,
 "nbformat_minor": 2
}
