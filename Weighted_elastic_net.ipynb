{
 "cells": [
  {
   "cell_type": "code",
   "execution_count": 1,
   "metadata": {
    "collapsed": true
   },
   "outputs": [],
   "source": [
    "import numpy as np\n",
    "import pandas as pd\n",
    "from matplotlib import pyplot as plt\n",
    "\n",
    "# for pretty printing pandas dataframes\n",
    "from IPython.display import display, HTML\n",
    "\n",
    "# matplotlib\n",
    "%matplotlib inline\n",
    "plt.style.use('seaborn-notebook')"
   ]
  },
  {
   "cell_type": "markdown",
   "metadata": {},
   "source": [
    "## Data Preprocessing\n"
   ]
  },
  {
   "cell_type": "code",
   "execution_count": 2,
   "metadata": {
    "collapsed": true
   },
   "outputs": [],
   "source": [
    "df = pd.read_csv('Boston.csv')"
   ]
  },
  {
   "cell_type": "code",
   "execution_count": 3,
   "metadata": {},
   "outputs": [
    {
     "data": {
      "text/html": [
       "<div>\n",
       "<style scoped>\n",
       "    .dataframe tbody tr th:only-of-type {\n",
       "        vertical-align: middle;\n",
       "    }\n",
       "\n",
       "    .dataframe tbody tr th {\n",
       "        vertical-align: top;\n",
       "    }\n",
       "\n",
       "    .dataframe thead th {\n",
       "        text-align: right;\n",
       "    }\n",
       "</style>\n",
       "<table border=\"1\" class=\"dataframe\">\n",
       "  <thead>\n",
       "    <tr style=\"text-align: right;\">\n",
       "      <th></th>\n",
       "      <th>crim</th>\n",
       "      <th>zn</th>\n",
       "      <th>indus</th>\n",
       "      <th>chas</th>\n",
       "      <th>nox</th>\n",
       "      <th>rm</th>\n",
       "      <th>age</th>\n",
       "      <th>dis</th>\n",
       "      <th>rad</th>\n",
       "      <th>tax</th>\n",
       "      <th>ptratio</th>\n",
       "      <th>black</th>\n",
       "      <th>lstat</th>\n",
       "      <th>medv</th>\n",
       "    </tr>\n",
       "  </thead>\n",
       "  <tbody>\n",
       "    <tr>\n",
       "      <th>0</th>\n",
       "      <td>0.00632</td>\n",
       "      <td>18.0</td>\n",
       "      <td>2.31</td>\n",
       "      <td>0</td>\n",
       "      <td>0.538</td>\n",
       "      <td>6.575</td>\n",
       "      <td>65.2</td>\n",
       "      <td>4.0900</td>\n",
       "      <td>1</td>\n",
       "      <td>296</td>\n",
       "      <td>15.3</td>\n",
       "      <td>396.90</td>\n",
       "      <td>4.98</td>\n",
       "      <td>24.0</td>\n",
       "    </tr>\n",
       "    <tr>\n",
       "      <th>1</th>\n",
       "      <td>0.02731</td>\n",
       "      <td>0.0</td>\n",
       "      <td>7.07</td>\n",
       "      <td>0</td>\n",
       "      <td>0.469</td>\n",
       "      <td>6.421</td>\n",
       "      <td>78.9</td>\n",
       "      <td>4.9671</td>\n",
       "      <td>2</td>\n",
       "      <td>242</td>\n",
       "      <td>17.8</td>\n",
       "      <td>396.90</td>\n",
       "      <td>9.14</td>\n",
       "      <td>21.6</td>\n",
       "    </tr>\n",
       "    <tr>\n",
       "      <th>2</th>\n",
       "      <td>0.02729</td>\n",
       "      <td>0.0</td>\n",
       "      <td>7.07</td>\n",
       "      <td>0</td>\n",
       "      <td>0.469</td>\n",
       "      <td>7.185</td>\n",
       "      <td>61.1</td>\n",
       "      <td>4.9671</td>\n",
       "      <td>2</td>\n",
       "      <td>242</td>\n",
       "      <td>17.8</td>\n",
       "      <td>392.83</td>\n",
       "      <td>4.03</td>\n",
       "      <td>34.7</td>\n",
       "    </tr>\n",
       "    <tr>\n",
       "      <th>3</th>\n",
       "      <td>0.03237</td>\n",
       "      <td>0.0</td>\n",
       "      <td>2.18</td>\n",
       "      <td>0</td>\n",
       "      <td>0.458</td>\n",
       "      <td>6.998</td>\n",
       "      <td>45.8</td>\n",
       "      <td>6.0622</td>\n",
       "      <td>3</td>\n",
       "      <td>222</td>\n",
       "      <td>18.7</td>\n",
       "      <td>394.63</td>\n",
       "      <td>2.94</td>\n",
       "      <td>33.4</td>\n",
       "    </tr>\n",
       "    <tr>\n",
       "      <th>4</th>\n",
       "      <td>0.06905</td>\n",
       "      <td>0.0</td>\n",
       "      <td>2.18</td>\n",
       "      <td>0</td>\n",
       "      <td>0.458</td>\n",
       "      <td>7.147</td>\n",
       "      <td>54.2</td>\n",
       "      <td>6.0622</td>\n",
       "      <td>3</td>\n",
       "      <td>222</td>\n",
       "      <td>18.7</td>\n",
       "      <td>396.90</td>\n",
       "      <td>5.33</td>\n",
       "      <td>36.2</td>\n",
       "    </tr>\n",
       "  </tbody>\n",
       "</table>\n",
       "</div>"
      ],
      "text/plain": [
       "      crim    zn  indus  chas    nox     rm   age     dis  rad  tax  ptratio  \\\n",
       "0  0.00632  18.0   2.31     0  0.538  6.575  65.2  4.0900    1  296     15.3   \n",
       "1  0.02731   0.0   7.07     0  0.469  6.421  78.9  4.9671    2  242     17.8   \n",
       "2  0.02729   0.0   7.07     0  0.469  7.185  61.1  4.9671    2  242     17.8   \n",
       "3  0.03237   0.0   2.18     0  0.458  6.998  45.8  6.0622    3  222     18.7   \n",
       "4  0.06905   0.0   2.18     0  0.458  7.147  54.2  6.0622    3  222     18.7   \n",
       "\n",
       "    black  lstat  medv  \n",
       "0  396.90   4.98  24.0  \n",
       "1  396.90   9.14  21.6  \n",
       "2  392.83   4.03  34.7  \n",
       "3  394.63   2.94  33.4  \n",
       "4  396.90   5.33  36.2  "
      ]
     },
     "execution_count": 3,
     "metadata": {},
     "output_type": "execute_result"
    }
   ],
   "source": [
    "df.head()"
   ]
  },
  {
   "cell_type": "code",
   "execution_count": 4,
   "metadata": {},
   "outputs": [
    {
     "data": {
      "text/plain": [
       "crim       0\n",
       "zn         0\n",
       "indus      0\n",
       "chas       0\n",
       "nox        0\n",
       "rm         0\n",
       "age        0\n",
       "dis        0\n",
       "rad        0\n",
       "tax        0\n",
       "ptratio    0\n",
       "black      0\n",
       "lstat      0\n",
       "medv       0\n",
       "dtype: int64"
      ]
     },
     "execution_count": 4,
     "metadata": {},
     "output_type": "execute_result"
    }
   ],
   "source": [
    "df.isna().sum()"
   ]
  },
  {
   "cell_type": "code",
   "execution_count": 5,
   "metadata": {
    "collapsed": true
   },
   "outputs": [],
   "source": [
    "X = df.iloc[:, :-1]\n",
    "y = df.iloc[:, -1]"
   ]
  },
  {
   "cell_type": "code",
   "execution_count": 6,
   "metadata": {
    "collapsed": true
   },
   "outputs": [],
   "source": [
    "# normal the data\n",
    "from sklearn.preprocessing import MinMaxScaler\n",
    "\n",
    "# initize a scaler\n",
    "scaler_X = MinMaxScaler()\n",
    "\n",
    "# fit and transform\n",
    "X_scaled = scaler_X.fit_transform(X)\n"
   ]
  },
  {
   "cell_type": "code",
   "execution_count": 7,
   "metadata": {
    "collapsed": true
   },
   "outputs": [],
   "source": [
    "# split the dataset\n",
    "from sklearn.model_selection import train_test_split\n",
    "\n",
    "X_train, X_test, y_train, y_test = train_test_split(X_scaled,\n",
    "                                                    y,\n",
    "                                                    test_size=0.33,\n",
    "                                                    random_state=0)"
   ]
  },
  {
   "cell_type": "markdown",
   "metadata": {},
   "source": [
    "## Test Implementation\n",
    "\n",
    "### Subgradient descent"
   ]
  },
  {
   "cell_type": "code",
   "execution_count": 15,
   "metadata": {},
   "outputs": [
    {
     "name": "stdout",
     "output_type": "stream",
     "text": [
      "Time to fit and predict: 0.2637007236480713\n",
      "MSE: 30.7626057144 \n",
      " R2: 0.618434758798\n"
     ]
    },
    {
     "data": {
      "image/png": "[encoded data removed]",
      "text/plain": [
       "<matplotlib.figure.Figure at 0x1eff60529e8>"
      ]
     },
     "metadata": {},
     "output_type": "display_data"
    },
    {
     "name": "stdout",
     "output_type": "stream",
     "text": [
      "iterations: 4069\n",
      "The best coeff: [-11.01436821   5.06123874   0.09410895   2.81071481  -8.27896286\n",
      "  21.65591101  -1.06473195 -17.97243152   6.0446398   -6.04668245\n",
      " -10.64372861   3.01733436 -20.25679964]\n"
     ]
    }
   ],
   "source": [
    "from weighted_elastic_net import WEN\n",
    "from sklearn.metrics import mean_squared_error as mse\n",
    "\n",
    "import time\n",
    "\n",
    "start_t = time.time()\n",
    "\n",
    "# With indentity matrix as the weight\n",
    "net1 = WEN(step_size = 5e-4, max_iter = 10000, \n",
    "           l1 = 0.1, l2 = 0.1, tol= 1e-3, \n",
    "           method = 'subgradient_descent')\n",
    "net1.fit(X_train, y_train)\n",
    "y_predict_1 = net1.predict(X_test)\n",
    "print('Time to fit and predict:', time.time()- start_t)\n",
    "\n",
    "# calcualte the score\n",
    "MSE_1 = mse(y_test,y_predict_1)\n",
    "R2_1 = net1.score(X_test, y_test)\n",
    "print('MSE:', MSE_1, '\\n', 'R2:', R2_1)\n",
    "\n",
    "# plot the results\n",
    "plot_dims = (6, 4)\n",
    "fig, ax = plt.subplots(figsize=plot_dims)\n",
    "plt.plot(y_test, y_predict_1, 'ro')\n",
    "ax.set_ylabel('Predictions')\n",
    "ax.set_xlabel('True Values')\n",
    "plt.tight_layout()\n",
    "plt.show() \n",
    "plt.close()\n",
    "\n",
    "# print the number of iterations and the best coeff found\n",
    "print('iterations:', net1._n_iter)\n",
    "print('The best coeff:', net1._best_coeff)"
   ]
  },
  {
   "cell_type": "markdown",
   "metadata": {},
   "source": [
    "### Coordinate descent"
   ]
  },
  {
   "cell_type": "code",
   "execution_count": 16,
   "metadata": {},
   "outputs": [
    {
     "name": "stdout",
     "output_type": "stream",
     "text": [
      "Time to fit and predict: 0.4983255863189697\n",
      "MSE: 30.7696778605 \n",
      " R2: 0.618347039144\n"
     ]
    },
    {
     "data": {
      "image/png": "[encoded data removed]",
      "text/plain": [
       "<matplotlib.figure.Figure at 0x1eff62cd550>"
      ]
     },
     "metadata": {},
     "output_type": "display_data"
    },
    {
     "name": "stdout",
     "output_type": "stream",
     "text": [
      "iterations: 8150\n",
      "The best coeff: [-11.00027397   5.06286672   0.06681418   2.81076761  -8.28311748\n",
      "  21.59209398  -1.06001454 -17.99831107   6.03215235  -6.02694445\n",
      " -10.64600072   3.00344376 -20.29056949]\n"
     ]
    }
   ],
   "source": [
    "start_t = time.time()\n",
    "\n",
    "# With indentity matrix as the weight\n",
    "net1 = WEN(step_size = 1e-4, max_iter = 10000, \n",
    "           l1 = 0.1, l2 = 0.1, tol= 1e-3, \n",
    "           method = 'coordinate_descent')\n",
    "net1.fit(X_train, y_train)\n",
    "y_predict_1 = net1.predict(X_test)\n",
    "print('Time to fit and predict:', time.time()- start_t)\n",
    "\n",
    "# calcualte the score\n",
    "MSE_1 = mse(y_test,y_predict_1)\n",
    "R2_1 = net1.score(X_test, y_test)\n",
    "print('MSE:', MSE_1, '\\n', 'R2:', R2_1)\n",
    "\n",
    "# plot the results\n",
    "plot_dims = (6, 4)\n",
    "fig, ax = plt.subplots(figsize=plot_dims)\n",
    "plt.plot(y_test, y_predict_1, 'ro')\n",
    "ax.set_ylabel('Predictions')\n",
    "ax.set_xlabel('True Values')\n",
    "plt.tight_layout()\n",
    "plt.show() \n",
    "plt.close()\n",
    "\n",
    "# print the number of iterations and the best coeff found\n",
    "print('iterations:', net1._n_iter)\n",
    "print('The best coeff:', net1._best_coeff)"
   ]
  },
  {
   "cell_type": "code",
   "execution_count": 14,
   "metadata": {},
   "outputs": [
    {
     "name": "stdout",
     "output_type": "stream",
     "text": [
      "MSE: 68.8106622043 \n",
      " R2: 0.146504130209\n"
     ]
    },
    {
     "data": {
      "image/png": "[encoded data removed]",
      "text/plain": [
       "<matplotlib.figure.Figure at 0x1eff15139e8>"
      ]
     },
     "metadata": {},
     "output_type": "display_data"
    },
    {
     "name": "stdout",
     "output_type": "stream",
     "text": [
      "[-0.          0.33979773 -0.80416429  0.         -0.37171964  0.59200041\n",
      " -0.52021113  0.         -0.8922621  -1.11485764 -1.05374385  0.02799242\n",
      " -1.26768277]\n"
     ]
    }
   ],
   "source": [
    "from sklearn.linear_model import ElasticNet\n",
    "\n",
    "regr = ElasticNet(random_state=0, fit_intercept=True)\n",
    "regr.fit(X_train, y_train)\n",
    "y_predict_regr = regr.predict(X_test)\n",
    "R2_regr = regr.score(X_test, y_test)\n",
    "MSE_regr = mse(y_test, y_predict_regr)\n",
    "\n",
    "print('MSE:', MSE_regr, '\\n', 'R2:', R2_regr)\n",
    "\n",
    "# plot the results\n",
    "plot_dims = (6, 4)\n",
    "fig, ax = plt.subplots(figsize=plot_dims)\n",
    "plt.plot(y_test, y_predict_regr, 'ro')\n",
    "ax.set_ylabel('Predictions')\n",
    "ax.set_xlabel('True Values')\n",
    "plt.tight_layout()\n",
    "plt.show() \n",
    "plt.close()\n",
    "\n",
    "print(regr.coef_)"
   ]
  },
  {
   "cell_type": "markdown",
   "metadata": {},
   "source": [
    "## Weighted Net"
   ]
  },
  {
   "cell_type": "code",
   "execution_count": 18,
   "metadata": {},
   "outputs": [
    {
     "data": {
      "image/png": "[encoded data removed]",
      "text/plain": [
       "<matplotlib.figure.Figure at 0x1eff6308cf8>"
      ]
     },
     "metadata": {},
     "output_type": "display_data"
    },
    {
     "data": {
      "image/png": "[encoded data removed]",
      "text/plain": [
       "<matplotlib.figure.Figure at 0x1eff6207908>"
      ]
     },
     "metadata": {},
     "output_type": "display_data"
    }
   ],
   "source": [
    "from sklearn.linear_model import LinearRegression\n",
    "\n",
    "# calculate the weight\n",
    "reg = LinearRegression()\n",
    "reg.fit(X_train, y_train)\n",
    "y_predict_reg = reg.predict(X_train)\n",
    "\n",
    "# plot the results\n",
    "plot_dims = (6, 4)\n",
    "fig, ax = plt.subplots(figsize=plot_dims)\n",
    "plt.plot(y_train, y_predict_reg, 'ro')\n",
    "ax.set_ylabel('Weight')\n",
    "ax.set_xlabel('True Values')\n",
    "plt.tight_layout()\n",
    "plt.show() \n",
    "plt.close()\n",
    "\n",
    "# plot the results\n",
    "plot_dims = (6, 4)\n",
    "fig, ax = plt.subplots(figsize=plot_dims)\n",
    "plt.plot(y_train, y_train - y_predict_reg, 'bo')\n",
    "ax.set_ylabel('Weight')\n",
    "ax.set_xlabel('True Values')\n",
    "plt.tight_layout()\n",
    "plt.show() \n",
    "plt.close()"
   ]
  },
  {
   "cell_type": "code",
   "execution_count": 27,
   "metadata": {},
   "outputs": [
    {
     "name": "stdout",
     "output_type": "stream",
     "text": [
      "Time to fit and predict: 1.201216697692871\n",
      "MSE: 30.8283252781 \n",
      " R2: 0.617619603496\n"
     ]
    },
    {
     "data": {
      "image/png": "[encoded data removed]",
      "text/plain": [
       "<matplotlib.figure.Figure at 0x1eff38a2e80>"
      ]
     },
     "metadata": {},
     "output_type": "display_data"
    },
    {
     "name": "stdout",
     "output_type": "stream",
     "text": [
      "iterations: 20001\n",
      "The best coeff: [-13.70919455   4.62278952  -0.3814157    2.32421547  -8.06479708\n",
      "  23.18921098  -2.43595571 -18.75888617   7.0876967   -6.84606346\n",
      " -10.70217128   4.07830015 -16.74681177]\n"
     ]
    },
    {
     "data": {
      "image/png": "[encoded data removed]",
      "text/plain": [
       "<matplotlib.figure.Figure at 0x1eff5f40630>"
      ]
     },
     "metadata": {},
     "output_type": "display_data"
    }
   ],
   "source": [
    "# caluclate the weight using OLS\n",
    "weight = np.diag(1/(y_train - y_predict_reg)**2)\n",
    "\n",
    "start_t = time.time()\n",
    "\n",
    "# With indentity matrix as the weight\n",
    "net = WEN(step_size = 1e-4, max_iter = 20000, \n",
    "           l1 = 0.1, l2 = 0.1, tol= 1e-3, \n",
    "           method = 'coordinate_descent',\n",
    "            weight = weight)\n",
    "net.fit(X_train, y_train)\n",
    "y_predict = net.predict(X_test)\n",
    "print('Time to fit and predict:', time.time()- start_t)\n",
    "\n",
    "# calcualte the score\n",
    "MSE = mse(y_test,y_predict)\n",
    "R2 = net.score(X_test, y_test)\n",
    "print('MSE:', MSE, '\\n', 'R2:', R2)\n",
    "\n",
    "# plot the results\n",
    "plot_dims = (6, 4)\n",
    "fig, ax = plt.subplots(figsize=plot_dims)\n",
    "plt.plot(y_test, y_predict, 'ro')\n",
    "ax.set_ylabel('Predictions')\n",
    "ax.set_xlabel('True Values')\n",
    "plt.tight_layout()\n",
    "plt.show() \n",
    "plt.close()\n",
    "\n",
    "# print the number of iterations and the best coeff found\n",
    "print('iterations:', net._n_iter)\n",
    "print('The best coeff:', net._best_coeff)\n",
    "\n",
    "# plot the error\n",
    "plot_dims = (6, 4)\n",
    "fig, ax = plt.subplots(figsize=plot_dims)\n",
    "plt.plot(y_test, y_test - y_predict, 'bo')\n",
    "ax.set_ylabel('error')\n",
    "ax.set_xlabel('True Values')\n",
    "plt.tight_layout()\n",
    "plt.show() \n",
    "plt.close()"
   ]
  },
  {
   "cell_type": "markdown",
   "metadata": {},
   "source": [
    "## GridSearch"
   ]
  },
  {
   "cell_type": "code",
   "execution_count": 28,
   "metadata": {},
   "outputs": [
    {
     "data": {
      "text/plain": [
       "GridSearchCV(cv=None, error_score='raise',\n",
       "       estimator=WEN(fit_intercept=True, l1=0.5, l2=0.5, max_iter=10000.0,\n",
       "  method='coordinate_descent', random_state=0, step_size=2e-05, tol=0.001,\n",
       "  weight=None),\n",
       "       fit_params=None, iid=True, n_jobs=1,\n",
       "       param_grid={'l1': array([ 0.05   ,  0.15556,  0.26111,  0.36667,  0.47222,  0.57778,\n",
       "        0.68333,  0.78889,  0.89444,  1.     ]), 'l2': array([ 0.05   ,  0.15556,  0.26111,  0.36667,  0.47222,  0.57778,\n",
       "        0.68333,  0.78889,  0.89444,  1.     ])},\n",
       "       pre_dispatch='2*n_jobs', refit=True, return_train_score='warn',\n",
       "       scoring=None, verbose=0)"
      ]
     },
     "execution_count": 28,
     "metadata": {},
     "output_type": "execute_result"
    }
   ],
   "source": [
    "from sklearn.model_selection import GridSearchCV\n",
    "\n",
    "net = WEN(tol = 1e-3, step_size=2e-5, max_iter=1e4)\n",
    "\n",
    "params = {'l1': np.linspace(0.05,1,10), 'l2': np.linspace(0.05,1,10)}\n",
    "gs = GridSearchCV(estimator = net, param_grid = params)\n",
    "gs.fit(X_train, y_train)"
   ]
  },
  {
   "cell_type": "code",
   "execution_count": 40,
   "metadata": {},
   "outputs": [
    {
     "data": {
      "text/plain": [
       "array([ 10,  20,  30,  40,  50,  60,  70,  80,  90, 100,   9,  19,  29,\n",
       "        39,  49,  59,  69,  79,  89,  99,   8,  18,  28,  38,  48,  58,\n",
       "        68,  78,  88,  98,   7,  17,  27,  37,  47,  57,  67,  77,  87,\n",
       "        97,   6,  16,  26,  36,  46,  56,  66,  76,  86,  96,   5,  15,\n",
       "        25,  35,  45,  55,  65,  75,  85,  95,   4,  14,  24,  34,  44,\n",
       "        54,  64,  74,  84,  94,   3,  13,  23,  33,  43,  53,  63,  73,\n",
       "        83,  93,   2,  12,  22,  32,  42,  52,  62,  72,  82,  92,   1,\n",
       "        11,  21,  31,  41,  51,  61,  71,  81,  91])"
      ]
     },
     "execution_count": 40,
     "metadata": {},
     "output_type": "execute_result"
    }
   ],
   "source": [
    "mts = gs.cv_results_['mean_test_score']\n",
    "param_list = gs.cv_results_['params']\n",
    "rank = gs.cv_results_['rank_test_score']\n",
    "\n",
    "sorter = np.argsort(-mts)"
   ]
  },
  {
   "cell_type": "code",
   "execution_count": 43,
   "metadata": {},
   "outputs": [
    {
     "name": "stdout",
     "output_type": "stream",
     "text": [
      "Top 5 parameters: [{'l1': 1.0, 'l2': 0.050000000000000003}, {'l1': 0.89444444444444449, 'l2': 0.050000000000000003}, {'l1': 0.78888888888888897, 'l2': 0.050000000000000003}, {'l1': 0.68333333333333335, 'l2': 0.050000000000000003}, {'l1': 0.57777777777777783, 'l2': 0.050000000000000003}]\n",
      "Top 5 mts: [ 0.69833964  0.6982782   0.69821417  0.69814577  0.69807526]\n"
     ]
    }
   ],
   "source": [
    "sorted_param_list = [param_list[i] for i in sorter]\n",
    "\n",
    "print('Top 5 parameters:', sorted_param_list[:5])\n",
    "\n",
    "print('Top 5 mts:', mts[sorter[:5]])"
   ]
  },
  {
   "cell_type": "code",
   "execution_count": null,
   "metadata": {
    "collapsed": true
   },
   "outputs": [],
   "source": []
  }
 ],
 "metadata": {
  "kernelspec": {
   "display_name": "Python 3",
   "language": "python",
   "name": "python3"
  },
  "language_info": {
   "codemirror_mode": {
    "name": "ipython",
    "version": 3
   },
   "file_extension": ".py",
   "mimetype": "text/x-python",
   "name": "python",
   "nbconvert_exporter": "python",
   "pygments_lexer": "ipython3",
   "version": "3.6.1"
  }
 },
 "nbformat": 4,
 "nbformat_minor": 2
}
